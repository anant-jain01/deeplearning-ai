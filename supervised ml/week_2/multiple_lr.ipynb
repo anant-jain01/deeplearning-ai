{
 "cells": [
  {
   "cell_type": "code",
   "execution_count": 1,
   "id": "8e3ca8a4",
   "metadata": {},
   "outputs": [],
   "source": [
    "import copy,math\n",
    "import numpy as np\n",
    "import matplotlib.pyplot as plt"
   ]
  },
  {
   "cell_type": "code",
   "execution_count": 7,
   "id": "6c9c5b90",
   "metadata": {},
   "outputs": [],
   "source": [
    "X_train=np.array([[2104,5,1,45],[1416,3,2,40],[852,2,1,35]])\n",
    "y_train=np.array([460,232,178])"
   ]
  },
  {
   "cell_type": "code",
   "execution_count": 8,
   "id": "360d9e02",
   "metadata": {},
   "outputs": [],
   "source": [
    "b_init=785.1811367994083\n",
    "w_init= np.array([ 0.39133535, 18.75376741, -53.36032453, -26.42131618])"
   ]
  },
  {
   "cell_type": "code",
   "execution_count": 9,
   "id": "69e7f89a",
   "metadata": {},
   "outputs": [],
   "source": [
    "def predict(x,w,b):\n",
    "  p=np.dot(w,x)+b\n",
    "  return p"
   ]
  },
  {
   "cell_type": "code",
   "execution_count": 10,
   "id": "ad4ed09c",
   "metadata": {},
   "outputs": [],
   "source": [
    "x_vec=X_train[0,:]\n",
    "f_wb=predict(x_vec,w_init,b_init)"
   ]
  },
  {
   "cell_type": "code",
   "execution_count": 11,
   "id": "78140971",
   "metadata": {},
   "outputs": [
    {
     "data": {
      "text/plain": [
       "np.float64(459.99999761940825)"
      ]
     },
     "execution_count": 11,
     "metadata": {},
     "output_type": "execute_result"
    }
   ],
   "source": [
    "f_wb"
   ]
  },
  {
   "cell_type": "code",
   "execution_count": 20,
   "id": "29281923",
   "metadata": {},
   "outputs": [],
   "source": [
    "def compute_cost(x,y,w,b):\n",
    "  m=len(x)\n",
    "  cost=0.0\n",
    "  for i in range(m):\n",
    "    f_wbi=np.dot(x[i],w)+b\n",
    "    cost+=(f_wbi-y[i])**2\n",
    "  cost=cost/(2*m)\n",
    "  return cost"
   ]
  },
  {
   "cell_type": "code",
   "execution_count": 22,
   "id": "bd861bf3",
   "metadata": {},
   "outputs": [
    {
     "data": {
      "text/plain": [
       "np.float64(1.5578904880036537e-12)"
      ]
     },
     "execution_count": 22,
     "metadata": {},
     "output_type": "execute_result"
    }
   ],
   "source": [
    "cost = compute_cost(X_train, y_train, w_init, b_init)\n",
    "cost"
   ]
  },
  {
   "cell_type": "code",
   "execution_count": 23,
   "id": "d67f177f",
   "metadata": {},
   "outputs": [],
   "source": [
    "def compute_grad(X,y,w,b):\n",
    "    m,n = X.shape          \n",
    "    dj_dw = np.zeros((n,))\n",
    "    dj_db = 0.\n",
    "\n",
    "    for i in range(m):                             \n",
    "        err = (np.dot(X[i], w) + b) - y[i]   \n",
    "        for j in range(n):                         \n",
    "            dj_dw[j] = dj_dw[j] + err * X[i, j]    \n",
    "        dj_db = dj_db + err                        \n",
    "    dj_dw = dj_dw / m                                \n",
    "    dj_db = dj_db / m                                \n",
    "        \n",
    "    return dj_db, dj_dw"
   ]
  },
  {
   "cell_type": "code",
   "execution_count": 25,
   "id": "eaabafbb",
   "metadata": {},
   "outputs": [
    {
     "name": "stdout",
     "output_type": "stream",
     "text": [
      "-1.673925169143331e-06 [-2.72623581e-03 -6.27197272e-06 -2.21745580e-06 -6.92403399e-05]\n"
     ]
    }
   ],
   "source": [
    "tmp_dj_db, tmp_dj_dw = compute_grad(X_train, y_train, w_init, b_init)\n",
    "print(tmp_dj_db, tmp_dj_dw)\n"
   ]
  },
  {
   "cell_type": "code",
   "execution_count": 28,
   "id": "2552f7c5",
   "metadata": {},
   "outputs": [],
   "source": [
    "def gradient_descent(X, y, w_in, b_in, cost_function, gradient_function, alpha, num_iters): \n",
    "   J_history = []\n",
    "   w = copy.deepcopy(w_in)\n",
    "   b = b_in\n",
    "   for i in range(num_iters):\n",
    "    dj_db,dj_dw = gradient_function(X, y, w, b)\n",
    "    w = w - alpha * dj_dw               \n",
    "    b = b - alpha * dj_db               \n",
    "    if i<100000:\n",
    "      J_history.append( cost_function(X, y, w, b))\n",
    "    if i% math.ceil(num_iters / 10) == 0:\n",
    "      print(f\"Iteration {i:4d}: Cost {J_history[-1]:8.2f}   \")\n",
    "   return w, b, J_history "
   ]
  },
  {
   "cell_type": "code",
   "execution_count": 29,
   "id": "107c0018",
   "metadata": {},
   "outputs": [
    {
     "name": "stdout",
     "output_type": "stream",
     "text": [
      "Iteration    0: Cost  2529.46   \n",
      "Iteration  100: Cost   695.99   \n",
      "Iteration  200: Cost   694.92   \n",
      "Iteration  300: Cost   693.86   \n",
      "Iteration  400: Cost   692.81   \n",
      "Iteration  500: Cost   691.77   \n",
      "Iteration  600: Cost   690.73   \n",
      "Iteration  700: Cost   689.71   \n",
      "Iteration  800: Cost   688.70   \n",
      "Iteration  900: Cost   687.69   \n",
      "b,w found by gradient descent: -0.00,[ 0.20396569  0.00374919 -0.0112487  -0.0658614 ] \n",
      "prediction: 426.19, target value: 460\n",
      "prediction: 286.17, target value: 232\n",
      "prediction: 171.47, target value: 178\n"
     ]
    }
   ],
   "source": [
    "initial_w = np.zeros_like(w_init)\n",
    "initial_b = 0.\n",
    "iterations = 1000\n",
    "alpha = 5.0e-7\n",
    "w_final, b_final, J_hist = gradient_descent(X_train, y_train, initial_w, initial_b,compute_cost,compute_grad,alpha, iterations)\n",
    "print(f\"b,w found by gradient descent: {b_final:0.2f},{w_final} \")\n",
    "m,_ = X_train.shape\n",
    "for i in range(m):\n",
    "    print(f\"prediction: {np.dot(X_train[i], w_final) + b_final:0.2f}, target value: {y_train[i]}\")"
   ]
  },
  {
   "cell_type": "code",
   "execution_count": null,
   "id": "d5152223",
   "metadata": {},
   "outputs": [],
   "source": []
  }
 ],
 "metadata": {
  "kernelspec": {
   "display_name": "Python 3",
   "language": "python",
   "name": "python3"
  },
  "language_info": {
   "codemirror_mode": {
    "name": "ipython",
    "version": 3
   },
   "file_extension": ".py",
   "mimetype": "text/x-python",
   "name": "python",
   "nbconvert_exporter": "python",
   "pygments_lexer": "ipython3",
   "version": "3.11.9"
  }
 },
 "nbformat": 4,
 "nbformat_minor": 5
}
