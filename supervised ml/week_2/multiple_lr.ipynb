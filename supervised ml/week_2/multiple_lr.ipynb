{
 "cells": [
  {
   "cell_type": "code",
   "execution_count": 1,
   "id": "8e3ca8a4",
   "metadata": {},
   "outputs": [],
   "source": [
    "import copy,math\n",
    "import numpy as np\n",
    "import matplotlib.pyplot as plt"
   ]
  },
  {
   "cell_type": "code",
   "execution_count": 7,
   "id": "6c9c5b90",
   "metadata": {},
   "outputs": [],
   "source": [
    "X_train=np.array([[2104,5,1,45],[1416,3,2,40],[852,2,1,35]])\n",
    "y_train=np.array([460,232,178])"
   ]
  },
  {
   "cell_type": "code",
   "execution_count": 8,
   "id": "360d9e02",
   "metadata": {},
   "outputs": [],
   "source": [
    "b_init=785.1811367994083\n",
    "w_init= np.array([ 0.39133535, 18.75376741, -53.36032453, -26.42131618])"
   ]
  },
  {
   "cell_type": "code",
   "execution_count": 9,
   "id": "69e7f89a",
   "metadata": {},
   "outputs": [],
   "source": [
    "def predict(x,w,b):\n",
    "  p=np.dot(w,x)+b\n",
    "  return p"
   ]
  },
  {
   "cell_type": "code",
   "execution_count": 10,
   "id": "ad4ed09c",
   "metadata": {},
   "outputs": [],
   "source": [
    "x_vec=X_train[0,:]\n",
    "f_wb=predict(x_vec,w_init,b_init)"
   ]
  },
  {
   "cell_type": "code",
   "execution_count": 11,
   "id": "78140971",
   "metadata": {},
   "outputs": [
    {
     "data": {
      "text/plain": [
       "np.float64(459.99999761940825)"
      ]
     },
     "execution_count": 11,
     "metadata": {},
     "output_type": "execute_result"
    }
   ],
   "source": [
    "f_wb"
   ]
  },
  {
   "cell_type": "code",
   "execution_count": null,
   "id": "29281923",
   "metadata": {},
   "outputs": [],
   "source": []
  }
 ],
 "metadata": {
  "kernelspec": {
   "display_name": "Python 3",
   "language": "python",
   "name": "python3"
  },
  "language_info": {
   "codemirror_mode": {
    "name": "ipython",
    "version": 3
   },
   "file_extension": ".py",
   "mimetype": "text/x-python",
   "name": "python",
   "nbconvert_exporter": "python",
   "pygments_lexer": "ipython3",
   "version": "3.11.9"
  }
 },
 "nbformat": 4,
 "nbformat_minor": 5
}
