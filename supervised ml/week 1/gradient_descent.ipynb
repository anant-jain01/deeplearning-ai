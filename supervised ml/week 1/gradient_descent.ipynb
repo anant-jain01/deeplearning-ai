{
 "cells": [
  {
   "cell_type": "code",
   "execution_count": 16,
   "id": "8987fd37",
   "metadata": {},
   "outputs": [],
   "source": [
    "import math,copy\n",
    "import pandas as pd\n",
    "import numpy as np\n",
    "import matplotlib.pyplot as plt"
   ]
  },
  {
   "cell_type": "code",
   "execution_count": 17,
   "id": "af2348bf",
   "metadata": {},
   "outputs": [],
   "source": [
    "x_train=np.array([1,2])\n",
    "y_train=np.array([300,500])\n"
   ]
  },
  {
   "cell_type": "code",
   "execution_count": 18,
   "id": "76ed85c6",
   "metadata": {},
   "outputs": [],
   "source": [
    "def cost(x_train,y_train,w,b):\n",
    "  m=len(x_train)\n",
    "  cost=0\n",
    "  for i in range(m):\n",
    "    cost+=((w*x_train[i]+b-y_train[i])**2)/(2*m)\n",
    "  return cost"
   ]
  },
  {
   "cell_type": "code",
   "execution_count": 19,
   "id": "ed46657a",
   "metadata": {},
   "outputs": [],
   "source": [
    "def grad(x,y,w,b):\n",
    "  m=len(x)\n",
    "  dj_dw=0\n",
    "  dj_db=0\n",
    "  for i in range(m):\n",
    "    f_wb=w*x[i]+b\n",
    "    dj_dw_i=(f_wb-y[i])*x[i]\n",
    "    dj_db_i=(f_wb-y[i])\n",
    "    dj_db+=dj_db_i\n",
    "    dj_dw+=dj_dw_i\n",
    "  dj_dw/=m\n",
    "  dj_db/=m\n",
    "  return dj_dw,dj_db"
   ]
  },
  {
   "cell_type": "code",
   "execution_count": 22,
   "id": "a90e30fa",
   "metadata": {},
   "outputs": [
    {
     "ename": "NameError",
     "evalue": "name 'compute_cost' is not defined",
     "output_type": "error",
     "traceback": [
      "\u001b[31m---------------------------------------------------------------------------\u001b[39m",
      "\u001b[31mNameError\u001b[39m                                 Traceback (most recent call last)",
      "\u001b[36mCell\u001b[39m\u001b[36m \u001b[39m\u001b[32mIn[22]\u001b[39m\u001b[32m, line 1\u001b[39m\n\u001b[32m----> \u001b[39m\u001b[32m1\u001b[39m plt.plot(x_train,y_train,\u001b[43mcompute_cost\u001b[49m,compute_gradient)\n\u001b[32m      2\u001b[39m plt.show\n",
      "\u001b[31mNameError\u001b[39m: name 'compute_cost' is not defined"
     ]
    }
   ],
   "source": [
    "plt.plot(x_train,y_train,compute_cost,compute_gradient)\n",
    "plt.show"
   ]
  },
  {
   "cell_type": "code",
   "execution_count": null,
   "id": "51183fc6",
   "metadata": {},
   "outputs": [],
   "source": []
  }
 ],
 "metadata": {
  "kernelspec": {
   "display_name": "Python 3",
   "language": "python",
   "name": "python3"
  },
  "language_info": {
   "codemirror_mode": {
    "name": "ipython",
    "version": 3
   },
   "file_extension": ".py",
   "mimetype": "text/x-python",
   "name": "python",
   "nbconvert_exporter": "python",
   "pygments_lexer": "ipython3",
   "version": "3.11.9"
  }
 },
 "nbformat": 4,
 "nbformat_minor": 5
}
