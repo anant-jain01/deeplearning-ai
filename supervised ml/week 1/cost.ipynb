{
 "cells": [
  {
   "cell_type": "code",
   "execution_count": 1,
   "id": "9d605add",
   "metadata": {},
   "outputs": [],
   "source": [
    "import numpy as np\n",
    "import matplotlib.pyplot as plt"
   ]
  },
  {
   "cell_type": "code",
   "execution_count": 4,
   "id": "7867d2dd",
   "metadata": {},
   "outputs": [],
   "source": [
    "x_train=np.array([1,2])\n",
    "y_train=np.array([300,500])"
   ]
  },
  {
   "cell_type": "code",
   "execution_count": 5,
   "id": "5fce1df6",
   "metadata": {},
   "outputs": [],
   "source": [
    "def cost(x,y,w,b):\n",
    "  m=x.shape[0]\n",
    "  cost=0\n",
    "  for i in range(m):\n",
    "    cost+=(w*x+b-y[i])**2\n",
    "  total=(1/(2*m))*(cost)\n",
    "  return total"
   ]
  },
  {
   "cell_type": "code",
   "execution_count": null,
   "id": "312bf051",
   "metadata": {},
   "outputs": [],
   "source": [
    "cost()"
   ]
  }
 ],
 "metadata": {
  "kernelspec": {
   "display_name": "Python 3",
   "language": "python",
   "name": "python3"
  },
  "language_info": {
   "codemirror_mode": {
    "name": "ipython",
    "version": 3
   },
   "file_extension": ".py",
   "mimetype": "text/x-python",
   "name": "python",
   "nbconvert_exporter": "python",
   "pygments_lexer": "ipython3",
   "version": "3.11.9"
  }
 },
 "nbformat": 4,
 "nbformat_minor": 5
}
